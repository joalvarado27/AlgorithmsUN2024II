{
  "nbformat": 4,
  "nbformat_minor": 0,
  "metadata": {
    "colab": {
      "provenance": []
    },
    "kernelspec": {
      "name": "python3",
      "display_name": "Python 3"
    },
    "language_info": {
      "name": "python"
    }
  },
  "cells": [
    {
      "cell_type": "markdown",
      "metadata": {
        "id": "view-in-github"
      },
      "source": [
        "<a href=\"https://colab.research.google.com/github/JulianFernandez1620/AlgorithmsUN2023/blob/main/Lab%204/jufernandezsGroupNLab4.ipynb\" target=\"_parent\"><img src=\"https://colab.research.google.com/assets/colab-badge.svg\" alt=\"Open In Colab\"/></a>"
      ]
    },
    {
      "cell_type": "markdown",
      "metadata": {
        "id": "N1ok_-56OjB1"
      },
      "source": [
        "# I Solving the Sum of Two Digits Programming Challenge"
      ]
    },
    {
      "cell_type": "markdown",
      "metadata": {
        "id": "MMY7kmDSO0KM"
      },
      "source": [
        "## C++"
      ]
    },
    {
      "cell_type": "code",
      "metadata": {
        "colab": {
          "base_uri": "https://localhost:8080/"
        },
        "id": "2pGGf9BkPNIk",
        "outputId": "81be7df2-36c6-4eda-f817-9a1ca8168d36"
      },
      "source": [
        "%%writefile APlusB.cpp\n",
        "#include <iostream>\n",
        "\n",
        "int sum_of_two_digits(int first_digit, int second_digit) {\n",
        "    return first_digit + second_digit;\n",
        "}\n",
        "\n",
        "int main() {\n",
        "    int a = 0;\n",
        "    int b = 0;\n",
        "    std::cin >> a;\n",
        "    std::cin >> b;\n",
        "    std::cout << sum_of_two_digits(a, b);\n",
        "    return 0;\n",
        "}"
      ],
      "execution_count": null,
      "outputs": [
        {
          "output_type": "stream",
          "name": "stdout",
          "text": [
            "Writing APlusB.cpp\n"
          ]
        }
      ]
    },
    {
      "cell_type": "code",
      "metadata": {
        "colab": {
          "base_uri": "https://localhost:8080/"
        },
        "id": "0G3ZKOYAPXSU",
        "outputId": "3a4c12d6-c31b-4388-e0a1-ef35d50a73a1"
      },
      "source": [
        "!g++ APlusB.cpp -o APlusB\n",
        "!./APlusB"
      ],
      "execution_count": null,
      "outputs": [
        {
          "output_type": "stream",
          "name": "stdout",
          "text": [
            "2 4\n",
            "6"
          ]
        }
      ]
    },
    {
      "cell_type": "markdown",
      "metadata": {
        "id": "iNkG2HqfTl9c"
      },
      "source": [
        "### Test input output files"
      ]
    },
    {
      "cell_type": "code",
      "metadata": {
        "colab": {
          "base_uri": "https://localhost:8080/"
        },
        "id": "aTzU2efzMxly",
        "outputId": "66ba1d70-31af-4b37-b103-4cc715ac3ea0"
      },
      "source": [
        "%%writefile input1.txt\n",
        "4 8"
      ],
      "execution_count": null,
      "outputs": [
        {
          "output_type": "stream",
          "name": "stdout",
          "text": [
            "Writing input1.txt\n"
          ]
        }
      ]
    },
    {
      "cell_type": "markdown",
      "metadata": {
        "id": "pdkfsvs-T0Wr"
      },
      "source": []
    },
    {
      "cell_type": "code",
      "metadata": {
        "colab": {
          "base_uri": "https://localhost:8080/"
        },
        "id": "zBJ0Gc0NQRet",
        "outputId": "e6ee5909-d621-480f-ff97-1a832c0f85e2"
      },
      "source": [
        "%%writefile output1.txt\n",
        "12"
      ],
      "execution_count": null,
      "outputs": [
        {
          "output_type": "stream",
          "name": "stdout",
          "text": [
            "Writing output1.txt\n"
          ]
        }
      ]
    },
    {
      "cell_type": "code",
      "metadata": {
        "colab": {
          "base_uri": "https://localhost:8080/"
        },
        "id": "IjEcIx63PJAN",
        "outputId": "5c97adf0-560b-4231-d272-70ed7ccc0b6b"
      },
      "source": [
        "%%writefile input2.txt\n",
        "-5 9"
      ],
      "execution_count": null,
      "outputs": [
        {
          "output_type": "stream",
          "name": "stdout",
          "text": [
            "Writing input2.txt\n"
          ]
        }
      ]
    },
    {
      "cell_type": "code",
      "metadata": {
        "colab": {
          "base_uri": "https://localhost:8080/"
        },
        "id": "Up9gOrxURTmd",
        "outputId": "b3c73605-88b6-47fd-e0a3-b75a579ae352"
      },
      "source": [
        "%%writefile output2.txt\n",
        "4"
      ],
      "execution_count": null,
      "outputs": [
        {
          "output_type": "stream",
          "name": "stdout",
          "text": [
            "Writing output2.txt\n"
          ]
        }
      ]
    },
    {
      "cell_type": "code",
      "metadata": {
        "colab": {
          "base_uri": "https://localhost:8080/"
        },
        "id": "PST6G-s-Pwgc",
        "outputId": "d02c3cb1-2a6f-48a9-f369-5e490ccbf8ab"
      },
      "source": [
        "!./APlusB < input1.txt"
      ],
      "execution_count": null,
      "outputs": [
        {
          "output_type": "stream",
          "name": "stdout",
          "text": [
            "12"
          ]
        }
      ]
    },
    {
      "cell_type": "code",
      "metadata": {
        "colab": {
          "base_uri": "https://localhost:8080/"
        },
        "id": "cKxZOjSlRfIN",
        "outputId": "02acb510-b051-4314-9656-28ba75946684"
      },
      "source": [
        "!./APlusB < input2.txt"
      ],
      "execution_count": null,
      "outputs": [
        {
          "output_type": "stream",
          "name": "stdout",
          "text": [
            "4"
          ]
        }
      ]
    },
    {
      "cell_type": "markdown",
      "metadata": {
        "id": "Qw2TQWCCUwqk"
      },
      "source": [
        "### Comparing files with grep\n",
        "\n",
        "https://askubuntu.com/questions/546796/comparing-two-text-files"
      ]
    },
    {
      "cell_type": "code",
      "metadata": {
        "id": "WVIaAmMKU4QM"
      },
      "source": [
        "!grep -xvFf output1.txt output1.txt"
      ],
      "execution_count": null,
      "outputs": []
    },
    {
      "cell_type": "code",
      "metadata": {
        "colab": {
          "base_uri": "https://localhost:8080/"
        },
        "id": "MQU8gPPjQuYO",
        "outputId": "baf9eef9-0278-43b6-e878-bcecce23db6e"
      },
      "source": [
        "!grep -xvFf output1.txt output2.txt"
      ],
      "execution_count": null,
      "outputs": [
        {
          "output_type": "stream",
          "name": "stdout",
          "text": [
            "4\n"
          ]
        }
      ]
    },
    {
      "cell_type": "code",
      "metadata": {
        "colab": {
          "base_uri": "https://localhost:8080/"
        },
        "id": "jYL9OuYBTD_l",
        "outputId": "d45da41f-56d8-4182-82b9-109cea24e0c6"
      },
      "source": [
        "!grep -xvFf output2.txt output1.txt"
      ],
      "execution_count": null,
      "outputs": [
        {
          "output_type": "stream",
          "name": "stdout",
          "text": [
            "12\n"
          ]
        }
      ]
    },
    {
      "cell_type": "code",
      "metadata": {
        "id": "Jlja0Xm4TX9M"
      },
      "source": [
        "!./APlusB < input1.txt> ctest1.txt\n",
        "!grep -xvFf output1.txt ctest1.txt"
      ],
      "execution_count": null,
      "outputs": []
    },
    {
      "cell_type": "code",
      "metadata": {
        "id": "g9OIUZA_QLCQ"
      },
      "source": [
        "!./APlusB < input2.txt > ctest2.txt\n",
        "!grep -xvFf output2.txt ctest2.txt"
      ],
      "execution_count": null,
      "outputs": []
    },
    {
      "cell_type": "markdown",
      "metadata": {
        "id": "3BgOaDjUVJk6"
      },
      "source": [
        "## Python"
      ]
    },
    {
      "cell_type": "code",
      "metadata": {
        "colab": {
          "base_uri": "https://localhost:8080/"
        },
        "id": "DBvl-T0CTN_8",
        "outputId": "82d985bb-9919-4666-9316-597178bc6745"
      },
      "source": [
        "%%writefile sum.py\n",
        "# python3\n",
        "\n",
        "def sum_of_two_digits(first_digit, second_digit):\n",
        "    return first_digit + second_digit\n",
        "\n",
        "if __name__ == '__main__':\n",
        "    a, b = map(int, input().split())\n",
        "    print(sum_of_two_digits(a, b))"
      ],
      "execution_count": null,
      "outputs": [
        {
          "output_type": "stream",
          "name": "stdout",
          "text": [
            "Writing sum.py\n"
          ]
        }
      ]
    },
    {
      "cell_type": "code",
      "metadata": {
        "colab": {
          "base_uri": "https://localhost:8080/"
        },
        "id": "QKoKM11_WGyF",
        "outputId": "d962192d-19a2-461a-a551-ee23d2ed9234"
      },
      "source": [
        "!python sum.py"
      ],
      "execution_count": null,
      "outputs": [
        {
          "output_type": "stream",
          "name": "stdout",
          "text": [
            "4 5\n",
            "9\n"
          ]
        }
      ]
    },
    {
      "cell_type": "code",
      "metadata": {
        "id": "cocFbPRTWrqt"
      },
      "source": [
        "!python sum.py  < input1.txt> ptest1.txt\n",
        "!grep -xvFf output1.txt ptest1.txt"
      ],
      "execution_count": null,
      "outputs": []
    },
    {
      "cell_type": "code",
      "metadata": {
        "id": "MorKTa-XXASN"
      },
      "source": [
        "!python sum.py  < input2.txt> ptest2.txt\n",
        "!grep -xvFf output2.txt ptest2.txt"
      ],
      "execution_count": null,
      "outputs": []
    },
    {
      "cell_type": "markdown",
      "metadata": {
        "id": "uvP-mOubW_5F"
      },
      "source": [
        "# II Solving The Maximum Pairwise Product Programming Challenge in C++"
      ]
    },
    {
      "cell_type": "markdown",
      "metadata": {
        "id": "C12yoFR6Xonl"
      },
      "source": [
        "## C++"
      ]
    },
    {
      "cell_type": "code",
      "metadata": {
        "colab": {
          "base_uri": "https://localhost:8080/"
        },
        "id": "YL4qJX3tXxdd",
        "outputId": "235b30ba-93dc-454a-e783-5222f0300265"
      },
      "source": [
        "%%writefile max_pairwise_product.cpp\n",
        "#include <iostream>\n",
        "#include <vector>\n",
        "#include <algorithm>\n",
        "\n",
        "int MaxPairwiseProduct(const std::vector<int>& numbers) {\n",
        "    int max_product = 0;\n",
        "    int n = numbers.size();\n",
        "\n",
        "    for (int first = 0; first < n; ++first) {\n",
        "        for (int second = first + 1; second < n; ++second) {\n",
        "            max_product = std::max(max_product,\n",
        "                numbers[first] * numbers[second]);\n",
        "        }\n",
        "    }\n",
        "\n",
        "    return max_product;\n",
        "}\n",
        "\n",
        "int main() {\n",
        "    int n;\n",
        "    std::cin >> n;\n",
        "    std::vector<int> numbers(n);\n",
        "    for (int i = 0; i < n; ++i) {\n",
        "        std::cin >> numbers[i];\n",
        "    }\n",
        "\n",
        "    std::cout << MaxPairwiseProduct(numbers) << \"\\n\";\n",
        "    return 0;\n",
        "}\n"
      ],
      "execution_count": null,
      "outputs": [
        {
          "output_type": "stream",
          "name": "stdout",
          "text": [
            "Writing max_pairwise_product.cpp\n"
          ]
        }
      ]
    },
    {
      "cell_type": "code",
      "metadata": {
        "colab": {
          "base_uri": "https://localhost:8080/"
        },
        "id": "KGxaEjvWX__O",
        "outputId": "2f7046b6-9363-485f-9fca-30cf726c38b4"
      },
      "source": [
        "!g++ max_pairwise_product.cpp -o max_pairwise_product\n",
        "!./max_pairwise_product"
      ],
      "execution_count": null,
      "outputs": [
        {
          "output_type": "stream",
          "name": "stdout",
          "text": [
            "4\n",
            "6 8 22 10\n",
            "220\n"
          ]
        }
      ]
    },
    {
      "cell_type": "markdown",
      "metadata": {
        "id": "e7KhxHGNS3i0"
      },
      "source": [
        "### Test 1: Small numbers"
      ]
    },
    {
      "cell_type": "code",
      "metadata": {
        "colab": {
          "base_uri": "https://localhost:8080/"
        },
        "id": "e1mmTzBgShT-",
        "outputId": "fd66c1e3-0adb-4cea-aae7-c12e6e122d9b"
      },
      "source": [
        "%%writefile input1.txt\n",
        "10\n",
        "1 2 3 4 5 6 7 8 9 10"
      ],
      "execution_count": null,
      "outputs": [
        {
          "output_type": "stream",
          "name": "stdout",
          "text": [
            "Overwriting input1.txt\n"
          ]
        }
      ]
    },
    {
      "cell_type": "code",
      "metadata": {
        "colab": {
          "base_uri": "https://localhost:8080/"
        },
        "id": "vy_uI0x7TCId",
        "outputId": "78191b8d-ddef-4513-dcf2-47c9987238e7"
      },
      "source": [
        "!./max_pairwise_product < input1.txt"
      ],
      "execution_count": null,
      "outputs": [
        {
          "output_type": "stream",
          "name": "stdout",
          "text": [
            "90\n"
          ]
        }
      ]
    },
    {
      "cell_type": "markdown",
      "metadata": {
        "id": "IeZ3kTjpYmR9"
      },
      "source": [
        "### Test 2: largest input numbers 200000 200000 in the input"
      ]
    },
    {
      "cell_type": "code",
      "metadata": {
        "colab": {
          "base_uri": "https://localhost:8080/"
        },
        "id": "LQNlZqaqYt7U",
        "outputId": "e437f911-3801-47b1-a445-22377324be25"
      },
      "source": [
        "%%writefile input2.txt\n",
        "6\n",
        "1 3 200000 9 200000 23"
      ],
      "execution_count": null,
      "outputs": [
        {
          "output_type": "stream",
          "name": "stdout",
          "text": [
            "Overwriting input2.txt\n"
          ]
        }
      ]
    },
    {
      "cell_type": "code",
      "metadata": {
        "colab": {
          "base_uri": "https://localhost:8080/"
        },
        "id": "2Wad2VZUZDxR",
        "outputId": "2438528d-a2d8-4c25-819d-346e3dce28d3"
      },
      "source": [
        "!./max_pairwise_product < input2.txt"
      ],
      "execution_count": null,
      "outputs": [
        {
          "output_type": "stream",
          "name": "stdout",
          "text": [
            "1345294336\n"
          ]
        }
      ]
    },
    {
      "cell_type": "markdown",
      "metadata": {
        "id": "H2SC0Qt5HCzz"
      },
      "source": [
        "Changing the variables to long long"
      ]
    },
    {
      "cell_type": "code",
      "metadata": {
        "colab": {
          "base_uri": "https://localhost:8080/"
        },
        "id": "MPcmsxiQZSfE",
        "outputId": "06f6eac7-d4de-4c9a-86c7-25755aa40538"
      },
      "source": [
        "%%writefile max_pairwise_product_long.cpp\n",
        "#include <iostream>\n",
        "#include <vector>\n",
        "#include <algorithm>\n",
        "\n",
        "long long MaxPairwiseProduct(const std::vector<int>& numbers) {\n",
        "    long long max_product = 0LL;\n",
        "\t  long long aux_product = 0LL;\n",
        "    int n = numbers.size();\n",
        "\n",
        "    for (int first = 0; first < n; ++first) {\n",
        "        for (int second = first + 1; second < n; ++second) {\n",
        "\t\t\t       aux_product =  (long long) numbers[first] * numbers[second];\n",
        "            if ( max_product < aux_product)  {\n",
        "\t\t\t\t        max_product = aux_product;\n",
        "             }\n",
        "        }\n",
        "    }\n",
        "\n",
        "    return max_product;\n",
        "}\n",
        "\n",
        "int main() {\n",
        "    int n;\n",
        "    std::cin >> n;\n",
        "    std::vector<int> numbers(n);\n",
        "    for (int i = 0; i < n; ++i) {\n",
        "        std::cin >> numbers[i];\n",
        "    }\n",
        "\n",
        "    std::cout << MaxPairwiseProduct(numbers) << \"\\n\";\n",
        "    return 0;\n",
        "}\n"
      ],
      "execution_count": null,
      "outputs": [
        {
          "output_type": "stream",
          "name": "stdout",
          "text": [
            "Writing max_pairwise_product_long.cpp\n"
          ]
        }
      ]
    },
    {
      "cell_type": "code",
      "metadata": {
        "colab": {
          "base_uri": "https://localhost:8080/"
        },
        "id": "I5pCeOG1Zm7s",
        "outputId": "a4990e72-c2c8-439e-ad7f-63b094e14011"
      },
      "source": [
        "!g++ max_pairwise_product_long.cpp -o max_pairwise_product_long\n",
        "!./max_pairwise_product_long < input1.txt\n",
        "!./max_pairwise_product_long < input2.txt"
      ],
      "execution_count": null,
      "outputs": [
        {
          "output_type": "stream",
          "name": "stdout",
          "text": [
            "90\n",
            "40000000000\n"
          ]
        }
      ]
    },
    {
      "cell_type": "markdown",
      "metadata": {
        "id": "XPVHkHxH6_7s"
      },
      "source": [
        "### Test 3  stress tests 20  times  random n in [2, 20]"
      ]
    },
    {
      "cell_type": "code",
      "source": [
        "%%writefile max_pairwise_product_long_test3.cpp\n",
        "\n",
        "#include <iostream>\n",
        "#include <vector>\n",
        "#include <cstdlib>\n",
        "#include <ctime>\n",
        "#include <algorithm>\n",
        "\n",
        "using namespace std;\n",
        "\n",
        "long long MaxPairwiseProduct(const std::vector<int>& numbers) {\n",
        "    long long max_product = 0LL;\n",
        "\t  long long aux_product = 0LL;\n",
        "    int n = numbers.size();\n",
        "\n",
        "    for (int first = 0; first < n; ++first) {\n",
        "        for (int second = first + 1; second < n; ++second) {\n",
        "\t\t\t       aux_product =  (long long) numbers[first] * numbers[second];\n",
        "            if ( max_product < aux_product)  {\n",
        "\t\t\t\t        max_product = aux_product;\n",
        "             }\n",
        "        }\n",
        "    }\n",
        "\n",
        "    return max_product;\n",
        "}\n",
        "\n",
        "int main() {\n",
        "    srand(time(NULL));\n",
        "\n",
        "    for (int i = 1; i <= 20; ++i) {\n",
        "        int n = rand() % 18 + 3;\n",
        "        vector<int> numbers(n);\n",
        "\n",
        "        for (int j = 0; j < n; ++j) {\n",
        "            numbers[j] = rand() % 1000;\n",
        "        }\n",
        "\n",
        "        cout << \"Caso \" << i << \": \";\n",
        "        for (int j = 0; j < n; ++j) {\n",
        "            cout << numbers[j] << \" \";\n",
        "        }\n",
        "        cout << endl;\n",
        "\n",
        "        int max_product = MaxPairwiseProduct(numbers);\n",
        "        cout << \"El máximo producto de pares es: \" << max_product << endl;\n",
        "    }\n",
        "\n",
        "    return 0;\n",
        "}\n"
      ],
      "metadata": {
        "colab": {
          "base_uri": "https://localhost:8080/"
        },
        "id": "aYtHb5UU2VPJ",
        "outputId": "116c2df2-16ca-4852-d43b-153996ba400d"
      },
      "execution_count": null,
      "outputs": [
        {
          "output_type": "stream",
          "name": "stdout",
          "text": [
            "Overwriting max_pairwise_product_long_test3.cpp\n"
          ]
        }
      ]
    },
    {
      "cell_type": "code",
      "source": [
        "!g++ max_pairwise_product_long_test3.cpp -o max_pairwise_product_long_test3\n",
        "!./max_pairwise_product_long_test3"
      ],
      "metadata": {
        "colab": {
          "base_uri": "https://localhost:8080/"
        },
        "id": "OY4Tof9_28_x",
        "outputId": "229a75e7-23ee-4e58-c4b6-d5171aa6cc35"
      },
      "execution_count": null,
      "outputs": [
        {
          "output_type": "stream",
          "name": "stdout",
          "text": [
            "Caso 1: 70 355 455 183 608 635 201 751 623 916 408 896 213 661 119 162 \n",
            "El máximo producto de pares es: 820736\n",
            "Caso 2: 242 303 762 804 747 703 669 142 302 263 298 313 411 491 383 118 946 \n",
            "El máximo producto de pares es: 760584\n",
            "Caso 3: 727 934 120 478 557 388 238 805 601 899 924 115 153 518 419 916 674 518 971 \n",
            "El máximo producto de pares es: 906914\n",
            "Caso 4: 660 273 311 958 586 723 802 \n",
            "El máximo producto de pares es: 768316\n",
            "Caso 5: 841 100 888 920 34 8 398 943 748 636 748 350 888 24 817 41 895 236 \n",
            "El máximo producto de pares es: 867560\n",
            "Caso 6: 921 106 280 969 766 553 \n",
            "El máximo producto de pares es: 892449\n",
            "Caso 7: 77 491 356 231 813 197 331 53 \n",
            "El máximo producto de pares es: 399183\n",
            "Caso 8: 718 61 868 \n",
            "El máximo producto de pares es: 623224\n",
            "Caso 9: 161 857 410 511 97 786 681 490 \n",
            "El máximo producto de pares es: 673602\n",
            "Caso 10: 917 800 955 376 \n",
            "El máximo producto de pares es: 875735\n",
            "Caso 11: 924 494 338 205 923 829 561 154 994 111 838 47 581 556 460 801 217 622 10 \n",
            "El máximo producto de pares es: 918456\n",
            "Caso 12: 485 459 766 166 950 799 436 102 754 812 534 679 658 224 884 582 \n",
            "El máximo producto de pares es: 839800\n",
            "Caso 13: 798 736 400 909 926 448 842 482 260 995 700 882 6 679 720 \n",
            "El máximo producto de pares es: 921370\n",
            "Caso 14: 797 238 767 597 674 869 703 838 756 382 497 980 619 431 386 417 \n",
            "El máximo producto de pares es: 851620\n",
            "Caso 15: 139 678 446 939 872 928 199 867 980 434 \n",
            "El máximo producto de pares es: 920220\n",
            "Caso 16: 660 154 43 809 392 810 758 419 32 462 257 788 \n",
            "El máximo producto de pares es: 655290\n",
            "Caso 17: 106 120 815 537 859 232 57 998 262 855 289 134 783 \n",
            "El máximo producto de pares es: 857282\n",
            "Caso 18: 2 764 922 \n",
            "El máximo producto de pares es: 704408\n",
            "Caso 19: 776 76 622 585 821 433 344 240 465 158 \n",
            "El máximo producto de pares es: 637096\n",
            "Caso 20: 605 2 308 77 818 197 288 402 \n",
            "El máximo producto de pares es: 494890\n"
          ]
        }
      ]
    },
    {
      "cell_type": "markdown",
      "metadata": {
        "id": "9z9yr5QkeyJF"
      },
      "source": [
        "### Test 4  time test  measure the execution time running with the the largest worst case file (200000 increasing numbers, 200000 and 200000 the end)"
      ]
    },
    {
      "cell_type": "code",
      "metadata": {
        "id": "oLiMjbAIfPlX",
        "colab": {
          "base_uri": "https://localhost:8080/"
        },
        "outputId": "17fa45e2-bf12-4002-971a-4a1b3c6a91ef"
      },
      "source": [
        "%%writefile Test2Write.cpp\n",
        "\n",
        "#include <iostream>\n",
        "#include <fstream>\n",
        "#include <cstdlib>\n",
        "\n",
        "using namespace std;\n",
        "\n",
        "int main() {\n",
        "  // Create and open a text file\n",
        "  ofstream MyFile(\"input3.txt\");\n",
        "\n",
        " MyFile << 200000 <<\"\\n\";  // n\n",
        " for (int i=1; i < 200001; i++){\n",
        "     MyFile << i <<\" \";\n",
        " }\n",
        "\n",
        "  // Close the file\n",
        "  MyFile.close();\n",
        "}"
      ],
      "execution_count": null,
      "outputs": [
        {
          "output_type": "stream",
          "name": "stdout",
          "text": [
            "Writing Test2Write.cpp\n"
          ]
        }
      ]
    },
    {
      "cell_type": "code",
      "metadata": {
        "id": "EH25TkOkZfD9"
      },
      "source": [
        "!g++ Test2Write.cpp -o Test2Write\n",
        "!./Test2Write"
      ],
      "execution_count": null,
      "outputs": []
    },
    {
      "cell_type": "markdown",
      "metadata": {
        "id": "JB6f03qO-lj9"
      },
      "source": [
        "Measure time\n",
        "\n",
        "https://askubuntu.com/questions/53444/how-can-i-measure-the-execution-time-of-a-terminal-process"
      ]
    },
    {
      "cell_type": "code",
      "metadata": {
        "colab": {
          "base_uri": "https://localhost:8080/"
        },
        "id": "6p2QLEr576zk",
        "outputId": "f3339612-4a5e-4253-d79d-8a8b331ef2a3"
      },
      "source": [
        "!g++ max_pairwise_product_long.cpp -o max_pairwise_product_long\n",
        "!time ./max_pairwise_product_long < input3.txt"
      ],
      "execution_count": null,
      "outputs": [
        {
          "output_type": "stream",
          "name": "stdout",
          "text": [
            "39999800000\n",
            "\n",
            "real\t2m18.847s\n",
            "user\t2m17.594s\n",
            "sys\t0m0.049s\n"
          ]
        }
      ]
    },
    {
      "cell_type": "markdown",
      "metadata": {
        "id": "AmZeB2wYjxy5"
      },
      "source": [
        "##### Calculate  the number of instructions executed by the algorithm as a function of n, add in each line a comment with the number of instructions that are executed in that line\n",
        "\n",
        "```cpp\n",
        " int main() {                         //N inst exec by line executed  \n",
        "   \n",
        "    int n;                            //1                      \n",
        "    std::cin >> n;                    //1\n",
        "                                              \n",
        "    std::vector<int> numbers(n);      //n    init vector\n",
        "    .\n",
        "    .\n",
        " }\n",
        "\n",
        "```"
      ]
    },
    {
      "cell_type": "code",
      "metadata": {
        "colab": {
          "base_uri": "https://localhost:8080/"
        },
        "id": "djGX3FL13g9b",
        "outputId": "42086fc0-bdd2-4647-f0e9-6125e94481a4"
      },
      "source": [
        "%%writefile test_init_vectors.cpp\n",
        "#include <iostream>\n",
        "#include <vector>\n",
        "#include <algorithm>\n",
        "int main() {\n",
        "    int n = 10;                                                                                                                            //1\n",
        "    std::vector<int> numbers(n);\n",
        "    for (int i = 0; i < n; ++i) {\n",
        "        std::cout << numbers[i];\n",
        "    }\n",
        "\n",
        "    std::cout << \"\\n\";\n",
        "    return 0;\n",
        "}"
      ],
      "execution_count": null,
      "outputs": [
        {
          "output_type": "stream",
          "name": "stdout",
          "text": [
            "Writing test_init_vectors.cpp\n"
          ]
        }
      ]
    },
    {
      "cell_type": "code",
      "metadata": {
        "colab": {
          "base_uri": "https://localhost:8080/"
        },
        "id": "44gZcuE237-1",
        "outputId": "814dc880-af60-4029-c0c1-bcb8297fc144"
      },
      "source": [
        "!g++ test_init_vectors.cpp -o test_init_vectors\n",
        "!./test_init_vectors"
      ],
      "execution_count": null,
      "outputs": [
        {
          "output_type": "stream",
          "name": "stdout",
          "text": [
            "0000000000\n"
          ]
        }
      ]
    },
    {
      "cell_type": "code",
      "metadata": {
        "colab": {
          "base_uri": "https://localhost:8080/"
        },
        "id": "uG6Mv-Pwlkii",
        "outputId": "d09453c7-f65e-4532-a82b-4ee99910a944"
      },
      "source": [
        "%%writefile max_pairwise_product_long.cpp\n",
        "#include <iostream>\n",
        "#include <vector>\n",
        "#include <algorithm>\n",
        "\n",
        "long long MaxPairwiseProduct(const std::vector<int>& numbers) {              //N inst exec by line executed\n",
        "    long long max_product = 0LL;                                             //1\n",
        "\t  long long aux_product = 0LL;                                             //1\n",
        "    int n = numbers.size();                                                  //1\n",
        "\n",
        "    for (int first = 0; first < n; ++first) {                                //1+2n\n",
        "        for (int second = first + 1; second < n; ++second) {                 //n + (n-1)n\n",
        "\t\t\t       aux_product =  (long long) numbers[first] * numbers[second];    //(n-1)n/2\n",
        "            if (max_product < aux_product)  {                                //(n-1)n/2\n",
        "\t\t\t\t        max_product = aux_product;                                   //[0, (n-1)n/2]\n",
        "             }\n",
        "        }\n",
        "    }\n",
        "                                                                             // --------------\n",
        "    return max_product;                                                      // 4 + 3n + [2(n-1)n, 2.5 (n-1)n]\n",
        "}\n",
        "\n",
        "int main() {                                              //N inst exec by line executed\n",
        "    int n;                                                //1\n",
        "    std::cin >> n;                                        //1\n",
        "    std::vector<int> numbers(n);                          //n\n",
        "    for (int i = 0; i < n; ++i) {                         //1 + 2n\n",
        "        std::cin >> numbers[i];                           //n\n",
        "    }\n",
        "\n",
        "    std::cout << MaxPairwiseProduct(numbers) << \"\\n\";     //1 + 1  + 4 + 3n + [2(n-1)n, 2.5 (n-1)n]\n",
        "    return 0;                                             // --------------\n",
        "}                                                         // 9 + 7n + [2(n-1)n, 2.5 (n-1)n]\n"
      ],
      "execution_count": null,
      "outputs": [
        {
          "output_type": "stream",
          "name": "stdout",
          "text": [
            "Overwriting max_pairwise_product_long.cpp\n"
          ]
        }
      ]
    },
    {
      "cell_type": "markdown",
      "metadata": {
        "id": "0vTsUg8OwcHs"
      },
      "source": [
        "Count executed intructions in code and verify with inputs 1, 2 and 3"
      ]
    },
    {
      "cell_type": "code",
      "metadata": {
        "colab": {
          "base_uri": "https://localhost:8080/"
        },
        "id": "CuRKkqQc137V",
        "outputId": "97650662-340a-4c0f-9654-0e184d244bb0"
      },
      "source": [
        "%%writefile max_pairwise_product_long_execints.cpp\n",
        "#include <iostream>\n",
        "#include <vector>\n",
        "#include <algorithm>\n",
        "\n",
        "long long MaxPairwiseProduct(const std::vector<int>& numbers, long long &execints) {              //N inst exec by line executed\n",
        "\n",
        "    long long m = 0LL;                                                       //1\n",
        "\n",
        "    long long max_product = 0LL;                                             //1\n",
        "    execints++;\n",
        "\n",
        "\t  long long aux_product = 0LL;                                             //1\n",
        "    execints++;\n",
        "\n",
        "    int n = numbers.size();                                                  //1\n",
        "    execints++;\n",
        "\n",
        "    execints++;\n",
        "    for (int first = 0; first < n; ++first) {                                //1+2n\n",
        "        execints += 2;\n",
        "\n",
        "        long long m = 0LL;\n",
        "\n",
        "        execints++;\n",
        "        for (int second = first + 1; second < n; ++second) {                 //n+ (n-1)n\n",
        "            execints += 2;\n",
        "\n",
        "\t\t\t      aux_product =  (long long) numbers[first] * numbers[second];    //(n-1)n/2\n",
        "            execints++;\n",
        "\n",
        "            execints++;\n",
        "            if ( max_product < aux_product)  {                               //(n-1)n/2\n",
        "\n",
        "\t\t\t\t        max_product = aux_product;                                   //[0, (n-1)n/2]\n",
        "                execints++;\n",
        "                m++;\n",
        "             }\n",
        "        }\n",
        "        if ( (first <= 10) || (n- first <= 10)) std::cout << m << \"\\n\";\n",
        "    }\n",
        "                                                                            // --------------\n",
        "    return max_product;                                                     // 4 + 3n + [2(n-1)n, 2.5 (n-1)n]\n",
        "}\n",
        "\n",
        "int main() {                                                 //N inst exec by line executed\n",
        "    long long execints =0LL;\n",
        "\n",
        "    int n;                                                   //1\n",
        "    execints++;\n",
        "\n",
        "    std::cin >> n;                                           //1\n",
        "    execints++;\n",
        "\n",
        "    std::vector<int> numbers(n);                             //n\n",
        "    execints += n;\n",
        "\n",
        "    execints++;\n",
        "    for (int i = 0; i < n; ++i) {                            //1 + 2n\n",
        "        execints += 2;\n",
        "\n",
        "        std::cin >> numbers[i];\n",
        "        execints++;                                          //n\n",
        "    }\n",
        "\n",
        "    //std::cout << MaxPairwiseProduct(numbers) << \"\\n\";      //1 + 1  + 4 + 3n + [2(n-1)n, 2.5 (n-1)n]\n",
        "\n",
        "    execints++;\n",
        "    int M = MaxPairwiseProduct(numbers,execints);\n",
        "\n",
        "    execints++;\n",
        "    std::cout <<  execints << \"\\n\";\n",
        "    return 0;                                                // --------------\n",
        "}                                                            // 9 + 7n + [2(n-1)n, 2.5 (n-1)n]"
      ],
      "execution_count": null,
      "outputs": [
        {
          "output_type": "stream",
          "name": "stdout",
          "text": [
            "Writing max_pairwise_product_long_execints.cpp\n"
          ]
        }
      ]
    },
    {
      "cell_type": "code",
      "metadata": {
        "colab": {
          "base_uri": "https://localhost:8080/"
        },
        "id": "Kuvm1C05ly2a",
        "outputId": "bcf4773a-1b11-417b-ec3c-9c7d946b7456"
      },
      "source": [
        "!g++ max_pairwise_product_long_execints.cpp -o max_pairwise_product_long_execints\n",
        "!./max_pairwise_product_long_execints < input1.txt\n",
        "!./max_pairwise_product_long_execints < input2.txt\n",
        "!./max_pairwise_product_long_execints < input3.txt"
      ],
      "execution_count": null,
      "outputs": [
        {
          "output_type": "stream",
          "name": "stdout",
          "text": [
            "9\n",
            "5\n",
            "4\n",
            "3\n",
            "2\n",
            "2\n",
            "2\n",
            "2\n",
            "1\n",
            "0\n",
            "289\n",
            "2\n",
            "1\n",
            "2\n",
            "0\n",
            "0\n",
            "0\n",
            "116\n",
            "199999\n",
            "100000\n",
            "66667\n",
            "50000\n",
            "40000\n",
            "33334\n",
            "28572\n",
            "25000\n",
            "22223\n",
            "20000\n",
            "18182\n",
            "2\n",
            "2\n",
            "2\n",
            "2\n",
            "2\n",
            "2\n",
            "2\n",
            "2\n",
            "1\n",
            "0\n",
            "80003672077\n"
          ]
        }
      ]
    },
    {
      "cell_type": "markdown",
      "metadata": {
        "id": "L_uaamxeAHK7"
      },
      "source": [
        "The number of instructions executed by the algooirithm with a list of size $n$ is  \n",
        "\n",
        "$$T = 9 + 7n + [2(n-1)n, 2.5 (n-1)n]$$\n",
        "\n",
        "It depends on the size of the lists and  the order of the list.\n",
        "\n",
        "For the input1.txt\n",
        "```\n",
        "10\n",
        "1 2 3 4 5 6 7 8 9 10\n",
        "```\n",
        "$$T = 9 + 7(10) + 2(9)(10) +  9 + 5 + 4 + 3 + 2 + 2 + 2 + 2 + 1 + 0  = 289 $$\n",
        "\n",
        "For the input2.txt\n",
        "```\n",
        "6\n",
        "1 3 200000 9 200000 23\n",
        "```\n",
        "$$T = 9 + 7(6) + 2(5)(6)  +  2 + 1 + 2 + 0 + 0 + 0 = 116 $$\n",
        "\n",
        "\n",
        "For the input3.txt that is the worst case (n=200000 and list in incresing order)\n",
        "\n",
        "```\n",
        "200000\n",
        "1 2 3 4 5 6 7 8 9 10 ... 199998 199999 200000\n",
        "```\n",
        "\n",
        "$$\n",
        "\\begin{array}{ll}\n",
        "T &= 9 + 7(200000) + (2)(199999)(200000)  + (199999 +\n",
        "100000 + 66667 +50000 \\cdots 2 + 2 + 1)\\\\\n",
        "&= 80003672077  \\\\\n",
        "  &< 9 + 7(200000) + (2.5)(199999)(200000) \\\\\n",
        "  & = 100000900009\n",
        "\\end{array}\n",
        "  $$"
      ]
    },
    {
      "cell_type": "markdown",
      "metadata": {
        "id": "NXW7QkoBL6xH"
      },
      "source": [
        "Calculate estimated time by instruction and number of instructions by second"
      ]
    },
    {
      "cell_type": "code",
      "metadata": {
        "colab": {
          "base_uri": "https://localhost:8080/"
        },
        "id": "pKqB3i7dIxnc",
        "outputId": "df5bb0a2-78ee-458b-a820-0e22335a063e"
      },
      "source": [
        "# Estimated time by instruction\n",
        "\n",
        "128/80003672077\n"
      ],
      "execution_count": null,
      "outputs": [
        {
          "output_type": "execute_result",
          "data": {
            "text/plain": [
              "1.5999265618308827e-09"
            ]
          },
          "metadata": {},
          "execution_count": 44
        }
      ]
    },
    {
      "cell_type": "code",
      "metadata": {
        "colab": {
          "base_uri": "https://localhost:8080/"
        },
        "id": "18N1ouqeMhE1",
        "outputId": "969fb57c-687b-4f49-f212-0b7281365216"
      },
      "source": [
        "# Estimated number of instructions by second\n",
        "\n",
        "1/(128/80003672077)"
      ],
      "execution_count": null,
      "outputs": [
        {
          "output_type": "execute_result",
          "data": {
            "text/plain": [
              "625028688.1015625"
            ]
          },
          "metadata": {},
          "execution_count": 46
        }
      ]
    },
    {
      "cell_type": "markdown",
      "metadata": {
        "id": "CQufozXLNJwO"
      },
      "source": [
        "### Efficient solution"
      ]
    },
    {
      "cell_type": "markdown",
      "metadata": {
        "id": "nLcKBwbU0QsE"
      },
      "source": [
        "Add in each line a coment with the number of intstrcution that are executed in that line"
      ]
    },
    {
      "cell_type": "code",
      "metadata": {
        "id": "knls5Fh3NSt_",
        "colab": {
          "base_uri": "https://localhost:8080/"
        },
        "outputId": "db86709a-48cd-440c-eb3b-c213aed3cc36"
      },
      "source": [
        "%%writefile efficient_pw.cpp\n",
        "#include <iostream>\n",
        "#include <vector>\n",
        "#include <fstream>\n",
        "using namespace std;\n",
        "\n",
        "int main () {\n",
        "    int n;\n",
        "    cin >> n;\n",
        "    vector<int> numbers(n);\n",
        "    for (int i = 0; i < n; ++i) {\n",
        "        std::cin >> numbers[i];\n",
        "    }\n",
        "    int index = 1;\n",
        "    for(int i =2; i<n; i++){\n",
        "        if(numbers[i]> numbers[index]){\n",
        "            index = i;\n",
        "        }\n",
        "        int temp = numbers[index];\n",
        "        numbers[index] = numbers[n];\n",
        "        numbers[n] = temp;\n",
        "    }\n",
        "    for(int i =2; i<(n-1); i++){\n",
        "        if(numbers[i]> numbers[index]){\n",
        "            index = i;\n",
        "        }\n",
        "        int temp = numbers[index];\n",
        "        numbers[index] = numbers[n-1];\n",
        "        numbers[n-1] = temp;\n",
        "    }\n",
        "    long long ans = (long long)numbers[n]*numbers[n-1];\n",
        "    cout  << \"The the maximum pairwise product is: \"<< ans;\n",
        "}"
      ],
      "execution_count": null,
      "outputs": [
        {
          "output_type": "stream",
          "name": "stdout",
          "text": [
            "Writing efficient_pw.cpp\n"
          ]
        }
      ]
    },
    {
      "cell_type": "markdown",
      "metadata": {
        "id": "-JCijbWxNSii"
      },
      "source": [
        "Test with inputs 1 and 2\n",
        "\n"
      ]
    },
    {
      "cell_type": "code",
      "metadata": {
        "id": "TrTGAfqlNVXT",
        "colab": {
          "base_uri": "https://localhost:8080/"
        },
        "outputId": "6e48c942-d629-4562-dff3-5f0c82bc13bd"
      },
      "source": [
        "!g++ efficient_pw.cpp -o efficient_pw\n",
        "!time ./efficient_pw < input2.txt\n",
        "!g++ efficient_pw.cpp -o efficient_pw\n",
        "!time ./efficient_pw < input3.txt"
      ],
      "execution_count": null,
      "outputs": [
        {
          "output_type": "stream",
          "name": "stdout",
          "text": [
            "The the maximum pairwise product is: 11529800000\n",
            "real\t0m0.002s\n",
            "user\t0m0.002s\n",
            "sys\t0m0.000s\n",
            "The the maximum pairwise product is: 39999800000\n",
            "real\t0m0.117s\n",
            "user\t0m0.099s\n",
            "sys\t0m0.005s\n"
          ]
        }
      ]
    },
    {
      "cell_type": "markdown",
      "metadata": {
        "id": "PRX51wADNR8b"
      },
      "source": [
        "Test and time it with input 3"
      ]
    },
    {
      "cell_type": "code",
      "metadata": {
        "id": "v4z7-Is_NRt7",
        "colab": {
          "base_uri": "https://localhost:8080/"
        },
        "outputId": "5e0e0459-53ab-450c-a4bd-32ef877cfdd2"
      },
      "source": [
        "!g++ efficient_pw.cpp -o efficient_pw\n",
        "!time ./efficient_pw < input3.txt"
      ],
      "execution_count": null,
      "outputs": [
        {
          "output_type": "stream",
          "name": "stdout",
          "text": [
            "The the maximum pairwise product is: 39999800000\n",
            "real\t0m0.075s\n",
            "user\t0m0.070s\n",
            "sys\t0m0.002s\n"
          ]
        }
      ]
    },
    {
      "cell_type": "markdown",
      "metadata": {
        "id": "rpdfs0_TNZJf"
      },
      "source": [
        "20 stress tests"
      ]
    },
    {
      "cell_type": "code",
      "metadata": {
        "id": "Lu4tYcKzNcTT",
        "colab": {
          "base_uri": "https://localhost:8080/"
        },
        "outputId": "3d08e19d-eefb-42c9-986b-28619fdd7d20"
      },
      "source": [
        "%%writefile efficient_pw_test3.cpp\n",
        "\n",
        "#include <iostream>\n",
        "#include <vector>\n",
        "#include <cstdlib>\n",
        "#include <ctime>\n",
        "#include <algorithm>\n",
        "using namespace std;\n",
        "\n",
        "int main () {\n",
        "    srand(time(NULL));\n",
        "\n",
        "    for (int i = 0; i < 20; ++i) {\n",
        "        int n = rand() % 18 + 3; // Cantidad de elementos en la lista: 3 <= n <= 20\n",
        "        vector<int> numbers(n);\n",
        "\n",
        "        for (int j = 0; j < n; ++j) {\n",
        "            numbers[j] = rand() % 1000;\n",
        "        }\n",
        "\n",
        "        int index = 1;\n",
        "        for(int j = 2; j < n; j++){\n",
        "            if(numbers[j] > numbers[index]){\n",
        "                index = j;\n",
        "            }\n",
        "            int temp = numbers[index];\n",
        "            numbers[index] = numbers[n - 1];\n",
        "            numbers[n - 1] = temp;\n",
        "        }\n",
        "\n",
        "        for(int j = 2; j < n - 1; j++){\n",
        "            if(numbers[j] > numbers[index]){\n",
        "                index = j;\n",
        "            }\n",
        "            int temp = numbers[index];\n",
        "            numbers[index] = numbers[n - 2];\n",
        "            numbers[n - 2] = temp;\n",
        "        }\n",
        "\n",
        "        long long ans = (long long)numbers[n-1] * numbers[n-2];\n",
        "        cout << \"Caso \" << i + 1 << \": \";\n",
        "        for(int j = 0; j < n; j++){\n",
        "            cout << numbers[j] << \" \";\n",
        "        }\n",
        "        cout << \"\\nEl máximo producto de pares es: \" << ans << \"\\n\\n\";\n",
        "    }\n",
        "\n",
        "    return 0;\n",
        "}\n"
      ],
      "execution_count": null,
      "outputs": [
        {
          "output_type": "stream",
          "name": "stdout",
          "text": [
            "Writing efficient_pw_test3.cpp\n"
          ]
        }
      ]
    },
    {
      "cell_type": "markdown",
      "metadata": {
        "id": "L8U4151JNbxk"
      },
      "source": [
        "Count executed instructions in code and verify with inputs 1,2 and 3\n"
      ]
    },
    {
      "cell_type": "code",
      "metadata": {
        "id": "dh85RM8vNhFz",
        "colab": {
          "base_uri": "https://localhost:8080/"
        },
        "outputId": "41920d3a-34b8-410d-94cf-2f44f576c8a3"
      },
      "source": [
        "!g++ efficient_pw_test3.cpp -o efficient_pw_test3\n",
        "!./efficient_pw_test3"
      ],
      "execution_count": null,
      "outputs": [
        {
          "output_type": "stream",
          "name": "stdout",
          "text": [
            "Caso 1: 735 572 764 463 \n",
            "El máximo producto de pares es: 353732\n",
            "\n",
            "Caso 2: 10 159 304 36 89 342 596 255 478 38 789 477 740 717 804 441 \n",
            "El máximo producto de pares es: 354564\n",
            "\n",
            "Caso 3: 441 426 509 293 \n",
            "El máximo producto de pares es: 149137\n",
            "\n",
            "Caso 4: 537 815 576 306 820 148 422 718 571 432 877 913 903 \n",
            "El máximo producto de pares es: 824439\n",
            "\n",
            "Caso 5: 861 624 754 691 14 715 520 754 433 926 59 961 688 \n",
            "El máximo producto de pares es: 661168\n",
            "\n",
            "Caso 6: 549 48 47 86 215 392 123 118 623 814 \n",
            "El máximo producto de pares es: 507122\n",
            "\n",
            "Caso 7: 46 409 66 598 418 384 173 394 310 959 216 \n",
            "El máximo producto de pares es: 207144\n",
            "\n",
            "Caso 8: 737 515 811 \n",
            "El máximo producto de pares es: 417665\n",
            "\n",
            "Caso 9: 926 79 805 763 400 205 811 838 420 434 582 851 558 891 396 \n",
            "El máximo producto de pares es: 352836\n",
            "\n",
            "Caso 10: 346 145 764 882 916 \n",
            "El máximo producto de pares es: 807912\n",
            "\n",
            "Caso 11: 510 544 657 919 922 746 435 85 797 361 936 954 \n",
            "El máximo producto de pares es: 892944\n",
            "\n",
            "Caso 12: 688 159 288 526 579 722 \n",
            "El máximo producto de pares es: 418038\n",
            "\n",
            "Caso 13: 822 632 178 856 237 554 399 505 318 281 181 902 946 \n",
            "El máximo producto de pares es: 853292\n",
            "\n",
            "Caso 14: 100 100 718 702 186 851 249 474 887 726 515 805 14 393 854 88 895 964 \n",
            "El máximo producto de pares es: 862780\n",
            "\n",
            "Caso 15: 710 0 662 265 371 167 935 5 465 116 535 420 569 635 474 456 173 325 972 57 \n",
            "El máximo producto de pares es: 55404\n",
            "\n",
            "Caso 16: 135 342 446 501 260 590 867 \n",
            "El máximo producto de pares es: 511530\n",
            "\n",
            "Caso 17: 412 15 177 384 677 794 107 844 729 112 309 198 647 81 119 908 635 \n",
            "El máximo producto de pares es: 576580\n",
            "\n",
            "Caso 18: 160 233 608 512 716 120 379 162 974 640 504 564 106 916 931 283 985 652 \n",
            "El máximo producto de pares es: 642220\n",
            "\n",
            "Caso 19: 760 194 159 224 113 224 452 709 \n",
            "El máximo producto de pares es: 320468\n",
            "\n",
            "Caso 20: 211 102 371 688 755 \n",
            "El máximo producto de pares es: 519440\n",
            "\n"
          ]
        }
      ]
    },
    {
      "cell_type": "markdown",
      "metadata": {
        "id": "K6ybgCmpNygr"
      },
      "source": [
        "Calculate estimated time by instruction and number of instructions by second"
      ]
    },
    {
      "cell_type": "code",
      "metadata": {
        "id": "kwe3G1O3Nz1w",
        "colab": {
          "base_uri": "https://localhost:8080/"
        },
        "outputId": "6d7375c4-6e97-445a-a639-85e216982551"
      },
      "source": [
        "# Estimated number of instructions by second\n",
        "\n",
        "1/(128/39999800000)"
      ],
      "execution_count": null,
      "outputs": [
        {
          "output_type": "execute_result",
          "data": {
            "text/plain": [
              "312498437.5"
            ]
          },
          "metadata": {},
          "execution_count": 52
        }
      ]
    },
    {
      "cell_type": "markdown",
      "metadata": {
        "id": "sc9nOLQrfTm0"
      },
      "source": [
        "### Super efficient solution\n",
        "\n",
        "Whitout storing the list in memory and whitout calling a function, add in each line a coment with the number of intstrcution that are executed in that line"
      ]
    },
    {
      "cell_type": "code",
      "metadata": {
        "id": "hBLt_xBQLy8E",
        "colab": {
          "base_uri": "https://localhost:8080/"
        },
        "outputId": "058b60d6-c1db-4960-d942-523e1a3bace7"
      },
      "source": [
        "%%writefile super_efficient_pw.cpp\n",
        "#include <iostream>\n",
        "using namespace std;\n",
        "\n",
        "int main() {\n",
        "    int n;\n",
        "    cin >> n; // 1 instrucción\n",
        "\n",
        "    long long max1 = -1, max2 = -1, min1 = 1000001, min2 = 1000001; // 5 instrucciones\n",
        "\n",
        "    for (int i = 0; i < n; ++i) { // n + 1 instrucciones\n",
        "        long long num;\n",
        "        cin >> num; // 1 instrucción\n",
        "\n",
        "        if (num > max1) { // 1 instrucción\n",
        "            max2 = max1; // 1 instrucción\n",
        "            max1 = num; // 1 instrucción\n",
        "        } else if (num > max2) { // 2 instrucciones\n",
        "            max2 = num; // 1 instrucción\n",
        "        }\n",
        "\n",
        "        if (num < min1) { // 1 instrucción\n",
        "            min2 = min1; // 1 instrucción\n",
        "            min1 = num; // 1 instrucción\n",
        "        } else if (num < min2) { // 2 instrucciones\n",
        "            min2 = num; // 1 instrucción\n",
        "        }\n",
        "    }\n",
        "\n",
        "    long long ans; // 1 instrucción\n",
        "    if (max1 * max2 > min1 * min2) { // 4 instrucciones\n",
        "        ans = max1 * max2; // 1 instrucción\n",
        "    } else {\n",
        "        ans = min1 * min2; // 1 instrucción\n",
        "    }\n",
        "\n",
        "    cout << ans << \"\\n\"; // 2 instrucciones\n",
        "    return 0; // 1 instrucción\n",
        "}\n",
        "\n"
      ],
      "execution_count": null,
      "outputs": [
        {
          "output_type": "stream",
          "name": "stdout",
          "text": [
            "Overwriting super_efficient_pw.cpp\n"
          ]
        }
      ]
    },
    {
      "cell_type": "markdown",
      "metadata": {
        "id": "683gc3roHqzb"
      },
      "source": [
        "Test with inputs 1 and 2\n",
        "\n",
        "\n",
        ""
      ]
    },
    {
      "cell_type": "code",
      "metadata": {
        "id": "b7d4LA8OIc2_",
        "colab": {
          "base_uri": "https://localhost:8080/"
        },
        "outputId": "eb6e317b-4ef9-4fee-aa96-36fce26b8ccd"
      },
      "source": [
        "!g++ super_efficient_pw.cpp -o super_efficient_pw\n",
        "!time ./super_efficient_pw < input2.txt\n",
        "!time ./super_efficient_pw < input3.txt"
      ],
      "execution_count": null,
      "outputs": [
        {
          "output_type": "stream",
          "name": "stdout",
          "text": [
            "40000000000\n",
            "\n",
            "real\t0m0.002s\n",
            "user\t0m0.001s\n",
            "sys\t0m0.001s\n",
            "39999800000\n",
            "\n",
            "real\t0m0.060s\n",
            "user\t0m0.056s\n",
            "sys\t0m0.002s\n"
          ]
        }
      ]
    },
    {
      "cell_type": "markdown",
      "metadata": {
        "id": "36Ugn1odIeJz"
      },
      "source": [
        "Test and time it with input 3"
      ]
    },
    {
      "cell_type": "code",
      "metadata": {
        "id": "jDyMbCnxHqSN",
        "colab": {
          "base_uri": "https://localhost:8080/"
        },
        "outputId": "84347210-8281-472c-f9dd-28eb74f4abab"
      },
      "source": [
        "!g++ super_efficient_pw.cpp -o super_efficient_pw\n",
        "!time ./super_efficient_pw < input3.txt"
      ],
      "execution_count": null,
      "outputs": [
        {
          "output_type": "stream",
          "name": "stdout",
          "text": [
            "39999800000\n",
            "\n",
            "real\t0m0.068s\n",
            "user\t0m0.066s\n",
            "sys\t0m0.002s\n"
          ]
        }
      ]
    },
    {
      "cell_type": "markdown",
      "metadata": {
        "id": "bhqiKQG6fjKM"
      },
      "source": [
        "20 stress tests"
      ]
    },
    {
      "cell_type": "code",
      "metadata": {
        "id": "2KsiXKhALzwm",
        "colab": {
          "base_uri": "https://localhost:8080/"
        },
        "outputId": "7e190d64-e4a9-4004-c228-1789ffcdcf2c"
      },
      "source": [
        "%%writefile super_efficient_pw_test3.cpp\n",
        "\n",
        "#include <iostream>\n",
        "#include <vector>\n",
        "#include <cstdlib>\n",
        "#include <ctime>\n",
        "#include <algorithm>\n",
        "using namespace std;\n",
        "\n",
        "int main () {\n",
        "    srand(time(NULL));\n",
        "\n",
        "    for (int i = 0; i < 20; ++i) {\n",
        "        int n = rand() % 18 + 3; // Cantidad de elementos en la lista: 3 <= n <= 20\n",
        "        vector<int> numbers(n);\n",
        "\n",
        "        for (int j = 0; j < n; ++j) {\n",
        "            numbers[j] = rand() % 1000;\n",
        "        }\n",
        "\n",
        "        int index = 1;\n",
        "        for(int j = 2; j < n; j++){\n",
        "            if(numbers[j] > numbers[index]){\n",
        "                index = j;\n",
        "            }\n",
        "            int temp = numbers[index];\n",
        "            numbers[index] = numbers[n - 1];\n",
        "            numbers[n - 1] = temp;\n",
        "        }\n",
        "\n",
        "        for(int j = 2; j < n - 1; j++){\n",
        "            if(numbers[j] > numbers[index]){\n",
        "                index = j;\n",
        "            }\n",
        "            int temp = numbers[index];\n",
        "            numbers[index] = numbers[n - 2];\n",
        "            numbers[n - 2] = temp;\n",
        "        }\n",
        "\n",
        "        long long ans = (long long)numbers[n-1] * numbers[n-2];\n",
        "        cout << \"Caso \" << i + 1 << \": \";\n",
        "        for(int j = 0; j < n; j++){\n",
        "            cout << numbers[j] << \" \";\n",
        "        }\n",
        "        cout << \"\\nEl máximo producto de pares es: \" << ans << \"\\n\\n\";\n",
        "    }\n",
        "\n",
        "    return 0;\n",
        "}"
      ],
      "execution_count": null,
      "outputs": [
        {
          "output_type": "stream",
          "name": "stdout",
          "text": [
            "Overwriting super_efficient_pw_test3.cpp\n"
          ]
        }
      ]
    },
    {
      "cell_type": "code",
      "source": [
        "!g++ super_efficient_pw_test3.cpp -o super_efficient_pw_test3\n",
        "!./super_efficient_pw_test3"
      ],
      "metadata": {
        "colab": {
          "base_uri": "https://localhost:8080/"
        },
        "id": "WzTM8qN_9hJV",
        "outputId": "b9dc0f97-f7fb-439a-cea4-e56cfdb50841"
      },
      "execution_count": null,
      "outputs": [
        {
          "output_type": "stream",
          "name": "stdout",
          "text": [
            "Caso 1: 793 29 186 297 941 \n",
            "El máximo producto de pares es: 279477\n",
            "\n",
            "Caso 2: 23 689 516 699 140 620 182 560 865 104 213 500 592 618 985 804 \n",
            "El máximo producto de pares es: 791940\n",
            "\n",
            "Caso 3: 939 662 123 781 805 30 492 305 722 522 247 362 824 873 \n",
            "El máximo producto de pares es: 719352\n",
            "\n",
            "Caso 4: 211 531 19 352 503 221 264 369 426 477 788 970 \n",
            "El máximo producto de pares es: 764360\n",
            "\n",
            "Caso 5: 206 823 111 498 666 234 220 762 264 712 419 440 956 937 \n",
            "El máximo producto de pares es: 895772\n",
            "\n",
            "Caso 6: 459 329 539 \n",
            "El máximo producto de pares es: 177331\n",
            "\n",
            "Caso 7: 212 328 374 715 864 650 436 77 820 657 448 990 619 \n",
            "El máximo producto de pares es: 612810\n",
            "\n",
            "Caso 8: 730 362 580 316 \n",
            "El máximo producto de pares es: 183280\n",
            "\n",
            "Caso 9: 694 933 25 113 373 416 132 528 394 813 419 935 998 \n",
            "El máximo producto de pares es: 933130\n",
            "\n",
            "Caso 10: 791 740 179 133 750 529 \n",
            "El máximo producto de pares es: 396750\n",
            "\n",
            "Caso 11: 186 402 979 573 \n",
            "El máximo producto de pares es: 560967\n",
            "\n",
            "Caso 12: 655 764 534 972 50 580 905 48 46 983 278 \n",
            "El máximo producto de pares es: 273274\n",
            "\n",
            "Caso 13: 806 377 991 \n",
            "El máximo producto de pares es: 373607\n",
            "\n",
            "Caso 14: 146 280 325 368 289 427 422 460 606 728 176 937 653 578 540 308 695 989 426 \n",
            "El máximo producto de pares es: 421314\n",
            "\n",
            "Caso 15: 7 185 794 405 716 777 583 9 507 816 552 653 294 230 294 754 926 974 \n",
            "El máximo producto de pares es: 901924\n",
            "\n",
            "Caso 16: 968 449 272 905 444 \n",
            "El máximo producto de pares es: 401820\n",
            "\n",
            "Caso 17: 445 758 897 \n",
            "El máximo producto de pares es: 679926\n",
            "\n",
            "Caso 18: 390 583 643 \n",
            "El máximo producto de pares es: 374869\n",
            "\n",
            "Caso 19: 789 724 744 849 566 70 425 205 623 430 495 923 988 \n",
            "El máximo producto de pares es: 911924\n",
            "\n",
            "Caso 20: 214 39 697 182 589 88 793 969 \n",
            "El máximo producto de pares es: 768417\n",
            "\n"
          ]
        }
      ]
    },
    {
      "cell_type": "markdown",
      "metadata": {
        "id": "fEXj8GHJH5p1"
      },
      "source": [
        "Count executed instructions in code and verify with inputs 1,2 and 3"
      ]
    },
    {
      "cell_type": "code",
      "metadata": {
        "id": "LF1DHjKXIAsF",
        "colab": {
          "base_uri": "https://localhost:8080/"
        },
        "outputId": "bf48ae35-c18f-4f50-e886-8d95932c6eb8"
      },
      "source": [
        "%%writefile super_eficient_max_pairwise_product_long_execints.cpp\n",
        "#include <iostream>\n",
        "using namespace std;\n",
        "\n",
        "int main() {\n",
        "    int n;\n",
        "    cin >> n; // 1 instrucción\n",
        "    int contador = 1; // 1 instrucción\n",
        "\n",
        "    long long max1 = -1, max2 = -1, min1 = 1000001, min2 = 1000001; // 5 instrucciones\n",
        "    contador += 5; // 1 instrucción por cada variable creada\n",
        "\n",
        "    for (int i = 0; i < n; ++i) { // n + 1 instrucciones\n",
        "        long long num;\n",
        "        cin >> num; // 1 instrucción\n",
        "        contador += 2; // 1 instrucción por la lectura de la variable y la suma\n",
        "\n",
        "        if (num > max1) { // 1 instrucción\n",
        "            max2 = max1; // 1 instrucción\n",
        "            max1 = num; // 1 instrucción\n",
        "        } else if (num > max2) { // 2 instrucciones\n",
        "            max2 = num; // 1 instrucción\n",
        "        }\n",
        "\n",
        "        if (num < min1) { // 1 instrucción\n",
        "            min2 = min1; // 1 instrucción\n",
        "            min1 = num; // 1 instrucción\n",
        "        } else if (num < min2) { // 2 instrucciones\n",
        "            min2 = num; // 1 instrucción\n",
        "        }\n",
        "\n",
        "        contador += 5; // 1 instrucción por cada operación realizada dentro del loop\n",
        "    }\n",
        "\n",
        "    long long ans; // 1 instrucción\n",
        "    if (max1 * max2 > min1 * min2) { // 4 instrucciones\n",
        "        ans = max1 * max2; // 1 instrucción\n",
        "    } else {\n",
        "        ans = min1 * min2; // 1 instrucción\n",
        "    }\n",
        "\n",
        "    cout << contador << \"\\n\"; // 2 instrucciones\n",
        "    return 0; // 1 instrucción\n",
        "}"
      ],
      "execution_count": null,
      "outputs": [
        {
          "output_type": "stream",
          "name": "stdout",
          "text": [
            "Writing super_eficient_max_pairwise_product_long_execints.cpp\n"
          ]
        }
      ]
    },
    {
      "cell_type": "code",
      "source": [
        "!g++ super_eficient_max_pairwise_product_long_execints.cpp -o super_eficient_max_pairwise_product_long_execints\n",
        "!./max_pairwise_product_long_execints < input1.txt\n",
        "!./max_pairwise_product_long_execints < input2.txt\n",
        "!./max_pairwise_product_long_execints < input3.txt"
      ],
      "metadata": {
        "colab": {
          "base_uri": "https://localhost:8080/"
        },
        "id": "3_w1yrEI-WyY",
        "outputId": "3aa3121c-f9e2-493a-ce42-d0ce7ee8d021"
      },
      "execution_count": null,
      "outputs": [
        {
          "output_type": "stream",
          "name": "stdout",
          "text": [
            "9\n",
            "5\n",
            "4\n",
            "3\n",
            "2\n",
            "2\n",
            "2\n",
            "2\n",
            "1\n",
            "0\n",
            "289\n",
            "2\n",
            "1\n",
            "2\n",
            "0\n",
            "0\n",
            "0\n",
            "116\n",
            "199999\n",
            "100000\n",
            "66667\n",
            "50000\n",
            "40000\n",
            "33334\n",
            "28572\n",
            "25000\n",
            "22223\n",
            "20000\n",
            "18182\n",
            "2\n",
            "2\n",
            "2\n",
            "2\n",
            "2\n",
            "2\n",
            "2\n",
            "2\n",
            "1\n",
            "0\n",
            "80003672077\n"
          ]
        }
      ]
    },
    {
      "cell_type": "markdown",
      "metadata": {
        "id": "yae7sSm2IG9U"
      },
      "source": [
        "Calculate estimated time by instruction and number of instructions by second"
      ]
    },
    {
      "cell_type": "code",
      "source": [
        "# Estimated time by instruction\n",
        "\n",
        "128/80003672077\n",
        "\n",
        "# Estimated number of instructions by second\n",
        "\n",
        "1/(128/80003672077)"
      ],
      "metadata": {
        "colab": {
          "base_uri": "https://localhost:8080/"
        },
        "id": "RIaQMEqH_QXt",
        "outputId": "9fc2dc0c-ddb4-464f-8d32-70f7ac613fbe"
      },
      "execution_count": null,
      "outputs": [
        {
          "output_type": "execute_result",
          "data": {
            "text/plain": [
              "625028688.1015625"
            ]
          },
          "metadata": {},
          "execution_count": 64
        }
      ]
    }
  ]
}